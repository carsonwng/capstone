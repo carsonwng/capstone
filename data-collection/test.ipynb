{
 "cells": [
  {
   "cell_type": "code",
   "execution_count": 52,
   "metadata": {},
   "outputs": [],
   "source": [
    "import mwparserfromhell"
   ]
  },
  {
   "cell_type": "code",
   "execution_count": 58,
   "metadata": {},
   "outputs": [
    {
     "name": "stdout",
     "output_type": "stream",
     "text": [
      " | Beverages | Cuisine of the United Kingdom\n",
      "\n",
      "A nice cup of tea is the usual answer in Britain and Ireland to any everyday problem. Nothing is so bad that a nice cup of tea with a friend or family member can't make it better.\n",
      "\n",
      " 32 fl oz (1 L) hot water\n",
      " 3–5 measures of loose tea leaves or 3–5 tea bags\n",
      " Sweetener, such as sugar or honey, to taste\n",
      " Milk or lemon juice to taste\n",
      "\n",
      " Pour freshly-drawn water into a tea kettle, and heat it to your desired temperature. An electric kettle is fast and convenient.\n",
      " Pour some hot tap water into your teapot and let stand for about several seconds to a minute to pre-warm it. Alternately, you can swish some of the hotter boiling water from your kettle around in the teapot for a few seconds. Pour out this water before adding the tea to the teapot.\n",
      " If using loose tea, place it into an infuser, then into the teapot. If using teabags, place them into the teapot.\n",
      " When the water reaches the preferred temperature, pour it from the tea kettle into the teapot. As you pour, try to avoid pouring directly onto the tea (especially important for green and white teas) to avoid scalding the leaves.\n",
      " Allow the tea to infuse quietly (i.e. do not stir the teapot or \"dunk the teabag\"). Agitating the tea releases more of the bitter compounds and degrades the taste. Watch the time to avoid over-infusion, and remove the infuser or tea bag when the time is up.\n",
      " Pour tea into your cup(s). Add sweetener and milk or lemon to taste.\n",
      "\n",
      " You can also prepare a single cup of tea at once by placing a single measure of tea directly into the serving cup.\n",
      " Commonly one-half to one tea measure (or rounded teaspoon if you do not have a tea measure) is added per desired cup of tea. Some people add an extra measure \"for the pot\" (e.g., if 4 cups of tea are desired, 5 measures of tea would be used. It really is a matter of personal preference.)\n",
      " Remember that the tannins in tea stain, so it is advisable to pour the tea over a non-staining surface, wipe up any spills quickly, and not leave tea standing in a teapot for long periods of time.\n",
      " Never combine milk and lemon in the same cup of tea or the milk will curdle into lumps.\n",
      " If you are using an infuser, be sure it is closed tightly so the tea does not spill into the pot. Rinse the tea-filled infuser briefly under cool tap water to wash away tiny flakes that would otherwise drift into the teapot.\n",
      " If using a filter basket infuser, do not overfill the basket (refer to the instructions that came with your basket). The brief rinse is usually not necessary unless the basket's mesh is quite porous.\n",
      " Simply dropping loose tea into the teapot is also an option, though you may want to strain the tea as you pour it into the cups.\n",
      " See the page on tea for additional considerations.\n"
     ]
    }
   ],
   "source": [
    "with open(\"../data/categories/train-clean/0_2_23815.txt\", \"r\", encoding=\"utf-8\") as file:\n",
    "    wikitext = mwparserfromhell.parse(file.read())\n",
    "\n",
    "    for el in reversed(wikitext.filter((mwparserfromhell.nodes.Text, mwparserfromhell.nodes.Wikilink, mwparserfromhell.nodes.Heading))):\n",
    "        if el.startswith(\"__\"):\n",
    "            wikitext.remove(el)\n",
    "\n",
    "        if isinstance(el, mwparserfromhell.nodes.Wikilink) and el.title.lower().startswith(\"category:\"):\n",
    "            wikitext.remove(el)\n",
    "\n",
    "        if isinstance(el, mwparserfromhell.nodes.Heading):\n",
    "            wikitext.remove(el)\n",
    "\n",
    "    print(wikitext.strip_code())"
   ]
  }
 ],
 "metadata": {
  "kernelspec": {
   "display_name": "Python 3",
   "language": "python",
   "name": "python3"
  },
  "language_info": {
   "codemirror_mode": {
    "name": "ipython",
    "version": 3
   },
   "file_extension": ".py",
   "mimetype": "text/x-python",
   "name": "python",
   "nbconvert_exporter": "python",
   "pygments_lexer": "ipython3",
   "version": "3.12.0"
  }
 },
 "nbformat": 4,
 "nbformat_minor": 2
}

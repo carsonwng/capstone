{
 "cells": [
  {
   "cell_type": "code",
   "execution_count": null,
   "metadata": {},
   "outputs": [],
   "source": [
    "from fastwarc.warc import ArchiveIterator\n",
    "from extruct import JsonLdExtractor\n",
    "\n",
    "file = \"../filtered/CC-MAIN-20231003024646-20231003054646-00734.warc.gz\"\n",
    "\n",
    "with open(file, \"rb\") as input_file:\n",
    "    extractor = JsonLdExtractor()\n",
    "\n",
    "    for record in ArchiveIterator(input_file):\n",
    "            try:\n",
    "                html = record.reader.read()\n",
    "                data = extractor.extract(html)\n",
    "                \n",
    "                schemaorg = list(filter(lambda x: x[\"@context\"] in [\"http://schema.org\", \"https://schema.org\"], data))\n",
    "\n",
    "                if len(schemaorg) > 0:\n",
    "                    print(schemaorg)\n",
    "                    \n",
    "            except Exception as e:\n",
    "                print(e)\n",
    "                pass"
   ]
  }
 ],
 "metadata": {
  "kernelspec": {
   "display_name": "Python 3",
   "language": "python",
   "name": "python3"
  },
  "language_info": {
   "codemirror_mode": {
    "name": "ipython",
    "version": 3
   },
   "file_extension": ".py",
   "mimetype": "text/x-python",
   "name": "python",
   "nbconvert_exporter": "python",
   "pygments_lexer": "ipython3",
   "version": "3.11.6"
  }
 },
 "nbformat": 4,
 "nbformat_minor": 2
}

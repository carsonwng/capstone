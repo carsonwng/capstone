{
 "cells": [
  {
   "cell_type": "code",
   "execution_count": 1,
   "metadata": {},
   "outputs": [],
   "source": [
    "import pywikibot\n",
    "from csv import DictReader, DictWriter\n",
    "import os, sys, json"
   ]
  },
  {
   "cell_type": "code",
   "execution_count": 2,
   "metadata": {},
   "outputs": [],
   "source": [
    "path = \"../data/categories/\"\n",
    "cat_fieldnames = [\n",
    "    \"REF_IDX\",\n",
    "    \"FAMILY\",\n",
    "    \"LOCALITY\",\n",
    "    \"CATEGORY\"\n",
    "]\n",
    "page_fieldnames = [\n",
    "    \"FAMILY\",\n",
    "    \"LOCALITY\",\n",
    "    \"CATEGORY\",\n",
    "    \"PAGE\"\n",
    "]"
   ]
  },
  {
   "cell_type": "code",
   "execution_count": 3,
   "metadata": {},
   "outputs": [
    {
     "name": "stdout",
     "output_type": "stream",
     "text": [
      "Querying [[wikibooks:en:Category:Recipes]] | 3828 pages long.\n",
      "Saved [[wikibooks:en:Category:Recipes]]\n",
      "Querying [[wikibooks:en:Category:Featured recipe candidates]] | 2 pages long.\n",
      "Saved [[wikibooks:en:Category:Featured recipe candidates]]\n",
      "Querying [[wikibooks:en:Category:Featured recipes]] | 40 pages long.\n",
      "Saved [[wikibooks:en:Category:Featured recipes]]\n",
      "Querying [[wikibooks:en:Category:Recipes with images]] | 808 pages long.\n",
      "Saved [[wikibooks:en:Category:Recipes with images]]\n",
      "Querying [[wikibooks:en:Category:Recipes with metric units]] | 958 pages long.\n"
     ]
    },
    {
     "name": "stderr",
     "output_type": "stream",
     "text": [
      "ERROR: Traceback (most recent call last):\n",
      "  File \"C:\\Users\\pixel\\AppData\\Roaming\\Python\\Python312\\site-packages\\pywikibot\\data\\api\\_requests.py\", line 688, in _http_request\n",
      "    response = http.request(self.site, uri=uri,\n",
      "               ^^^^^^^^^^^^^^^^^^^^^^^^^^^^^^^^\n",
      "  File \"C:\\Users\\pixel\\AppData\\Roaming\\Python\\Python312\\site-packages\\pywikibot\\comms\\http.py\", line 283, in request\n",
      "    r = fetch(baseuri, headers=headers, **kwargs)\n",
      "        ^^^^^^^^^^^^^^^^^^^^^^^^^^^^^^^^^^^^^^^^^\n",
      "  File \"C:\\Users\\pixel\\AppData\\Roaming\\Python\\Python312\\site-packages\\pywikibot\\comms\\http.py\", line 457, in fetch\n",
      "    callback(response)\n",
      "  File \"C:\\Users\\pixel\\AppData\\Roaming\\Python\\Python312\\site-packages\\pywikibot\\comms\\http.py\", line 354, in error_handling_callback\n",
      "    raise ServerError(\n",
      "pywikibot.exceptions.ServerError: 502 Server Error: Server Hangup\n",
      "\n",
      "WARNING: Waiting 5.0 seconds before retrying.\n"
     ]
    },
    {
     "name": "stdout",
     "output_type": "stream",
     "text": [
      "Saved [[wikibooks:en:Category:Recipes with metric units]]\n",
      "Querying [[wikibooks:en:Category:Kid-friendly recipes]] | 64 pages long.\n",
      "Saved [[wikibooks:en:Category:Kid-friendly recipes]]\n",
      "Querying [[wikibooks:en:Category:Very Easy recipes]] | 691 pages long.\n",
      "Saved [[wikibooks:en:Category:Very Easy recipes]]\n",
      "Querying [[wikibooks:en:Category:Easy recipes]] | 1624 pages long.\n"
     ]
    },
    {
     "ename": "KeyboardInterrupt",
     "evalue": "",
     "output_type": "error",
     "traceback": [
      "\u001b[1;31m---------------------------------------------------------------------------\u001b[0m",
      "\u001b[1;31mKeyboardInterrupt\u001b[0m                         Traceback (most recent call last)",
      "\u001b[1;32md:\\cs\\cs-12\\capstone\\data-collection\\load-pages.ipynb Cell 3\u001b[0m line \u001b[0;36m3\n\u001b[0;32m     <a href='vscode-notebook-cell:/d%3A/cs/cs-12/capstone/data-collection/load-pages.ipynb#W2sZmlsZQ%3D%3D?line=36'>37</a>\u001b[0m \u001b[39mfor\u001b[39;00m idx, page \u001b[39min\u001b[39;00m \u001b[39menumerate\u001b[39m(pages):\n\u001b[0;32m     <a href='vscode-notebook-cell:/d%3A/cs/cs-12/capstone/data-collection/load-pages.ipynb#W2sZmlsZQ%3D%3D?line=37'>38</a>\u001b[0m     file \u001b[39m=\u001b[39m \u001b[39mopen\u001b[39m(\u001b[39mf\u001b[39m\u001b[39m\"\u001b[39m\u001b[39m{\u001b[39;00mpath\u001b[39m}\u001b[39;00m\u001b[39m/train/\u001b[39m\u001b[39m{\u001b[39;00mcat_counter\u001b[39m}\u001b[39;00m\u001b[39m_\u001b[39m\u001b[39m{\u001b[39;00midx\u001b[39m}\u001b[39;00m\u001b[39m.txt\u001b[39m\u001b[39m\"\u001b[39m, \u001b[39m\"\u001b[39m\u001b[39mw\u001b[39m\u001b[39m\"\u001b[39m, encoding\u001b[39m=\u001b[39m\u001b[39m\"\u001b[39m\u001b[39mutf-8\u001b[39m\u001b[39m\"\u001b[39m)\n\u001b[1;32m---> <a href='vscode-notebook-cell:/d%3A/cs/cs-12/capstone/data-collection/load-pages.ipynb#W2sZmlsZQ%3D%3D?line=38'>39</a>\u001b[0m     file\u001b[39m.\u001b[39mwrite(page\u001b[39m.\u001b[39;49mtext)\n\u001b[0;32m     <a href='vscode-notebook-cell:/d%3A/cs/cs-12/capstone/data-collection/load-pages.ipynb#W2sZmlsZQ%3D%3D?line=40'>41</a>\u001b[0m \u001b[39mprint\u001b[39m(\u001b[39mf\u001b[39m\u001b[39m\"\u001b[39m\u001b[39mSaved \u001b[39m\u001b[39m{\u001b[39;00mcategory\u001b[39m}\u001b[39;00m\u001b[39m\"\u001b[39m)\n\u001b[0;32m     <a href='vscode-notebook-cell:/d%3A/cs/cs-12/capstone/data-collection/load-pages.ipynb#W2sZmlsZQ%3D%3D?line=42'>43</a>\u001b[0m cat_counter \u001b[39m+\u001b[39m\u001b[39m=\u001b[39m \u001b[39m1\u001b[39m\n",
      "File \u001b[1;32m~\\AppData\\Roaming\\Python\\Python312\\site-packages\\pywikibot\\page\\_basepage.py:530\u001b[0m, in \u001b[0;36mBasePage.text\u001b[1;34m(self)\u001b[0m\n\u001b[0;32m    527\u001b[0m     \u001b[39mreturn\u001b[39;00m \u001b[39mself\u001b[39m\u001b[39m.\u001b[39m_text\n\u001b[0;32m    529\u001b[0m \u001b[39mtry\u001b[39;00m:\n\u001b[1;32m--> 530\u001b[0m     \u001b[39mreturn\u001b[39;00m \u001b[39mself\u001b[39;49m\u001b[39m.\u001b[39;49mget(get_redirect\u001b[39m=\u001b[39;49m\u001b[39mTrue\u001b[39;49;00m)\n\u001b[0;32m    531\u001b[0m \u001b[39mexcept\u001b[39;00m NoPageError:\n\u001b[0;32m    532\u001b[0m     \u001b[39m# TODO: what other exceptions might be returned?\u001b[39;00m\n\u001b[0;32m    533\u001b[0m     \u001b[39mreturn\u001b[39;00m \u001b[39m'\u001b[39m\u001b[39m'\u001b[39m\n",
      "File \u001b[1;32m~\\AppData\\Roaming\\Python\\Python312\\site-packages\\pywikibot\\page\\_basepage.py:379\u001b[0m, in \u001b[0;36mBasePage.get\u001b[1;34m(self, force, get_redirect)\u001b[0m\n\u001b[0;32m    377\u001b[0m         \u001b[39mdel\u001b[39;00m \u001b[39mself\u001b[39m\u001b[39m.\u001b[39m_bot_may_edit\n\u001b[0;32m    378\u001b[0m \u001b[39mtry\u001b[39;00m:\n\u001b[1;32m--> 379\u001b[0m     \u001b[39mself\u001b[39;49m\u001b[39m.\u001b[39;49m_getInternals()\n\u001b[0;32m    380\u001b[0m \u001b[39mexcept\u001b[39;00m IsRedirectPageError:\n\u001b[0;32m    381\u001b[0m     \u001b[39mif\u001b[39;00m \u001b[39mnot\u001b[39;00m get_redirect:\n",
      "File \u001b[1;32m~\\AppData\\Roaming\\Python\\Python312\\site-packages\\pywikibot\\page\\_basepage.py:418\u001b[0m, in \u001b[0;36mBasePage._getInternals\u001b[1;34m(self)\u001b[0m\n\u001b[0;32m    416\u001b[0m \u001b[39mif\u001b[39;00m \u001b[39mself\u001b[39m\u001b[39m.\u001b[39m_latest_cached_revision() \u001b[39mis\u001b[39;00m \u001b[39mNone\u001b[39;00m:\n\u001b[0;32m    417\u001b[0m     \u001b[39mtry\u001b[39;00m:\n\u001b[1;32m--> 418\u001b[0m         \u001b[39mself\u001b[39;49m\u001b[39m.\u001b[39;49msite\u001b[39m.\u001b[39;49mloadrevisions(\u001b[39mself\u001b[39;49m, content\u001b[39m=\u001b[39;49m\u001b[39mTrue\u001b[39;49;00m)\n\u001b[0;32m    419\u001b[0m     \u001b[39mexcept\u001b[39;00m (NoPageError, SectionError) \u001b[39mas\u001b[39;00m e:\n\u001b[0;32m    420\u001b[0m         \u001b[39mself\u001b[39m\u001b[39m.\u001b[39m_getexception \u001b[39m=\u001b[39m e\n",
      "File \u001b[1;32m~\\AppData\\Roaming\\Python\\Python312\\site-packages\\pywikibot\\site\\_generators.py:779\u001b[0m, in \u001b[0;36mGeneratorsMixin.loadrevisions\u001b[1;34m(self, page, content, section, **kwargs)\u001b[0m\n\u001b[0;32m    776\u001b[0m \u001b[39mif\u001b[39;00m latest \u001b[39mor\u001b[39;00m \u001b[39m'\u001b[39m\u001b[39mrevids\u001b[39m\u001b[39m'\u001b[39m \u001b[39min\u001b[39;00m rvgen\u001b[39m.\u001b[39mrequest:\n\u001b[0;32m    777\u001b[0m     rvgen\u001b[39m.\u001b[39mset_maximum_items(\u001b[39m-\u001b[39m\u001b[39m1\u001b[39m)  \u001b[39m# suppress use of rvlimit parameter\u001b[39;00m\n\u001b[1;32m--> 779\u001b[0m \u001b[39mfor\u001b[39;49;00m pagedata \u001b[39min\u001b[39;49;00m rvgen:\n\u001b[0;32m    780\u001b[0m     \u001b[39mif\u001b[39;49;00m \u001b[39mnot\u001b[39;49;00m \u001b[39mself\u001b[39;49m\u001b[39m.\u001b[39;49msametitle(pagedata[\u001b[39m'\u001b[39;49m\u001b[39mtitle\u001b[39;49m\u001b[39m'\u001b[39;49m],\n\u001b[0;32m    781\u001b[0m                           page\u001b[39m.\u001b[39;49mtitle(with_section\u001b[39m=\u001b[39;49m\u001b[39mFalse\u001b[39;49;00m)):\n\u001b[0;32m    782\u001b[0m         \u001b[39mraise\u001b[39;49;00m InconsistentTitleError(page, pagedata[\u001b[39m'\u001b[39;49m\u001b[39mtitle\u001b[39;49m\u001b[39m'\u001b[39;49m])\n",
      "File \u001b[1;32m<frozen _collections_abc>:356\u001b[0m, in \u001b[0;36m__next__\u001b[1;34m(self)\u001b[0m\n",
      "File \u001b[1;32m~\\AppData\\Roaming\\Python\\Python312\\site-packages\\pywikibot\\tools\\collections.py:275\u001b[0m, in \u001b[0;36mGeneratorWrapper.send\u001b[1;34m(self, value)\u001b[0m\n\u001b[0;32m    272\u001b[0m \u001b[39mif\u001b[39;00m \u001b[39mnot\u001b[39;00m \u001b[39mhasattr\u001b[39m(\u001b[39mself\u001b[39m, \u001b[39m'\u001b[39m\u001b[39m_started_gen\u001b[39m\u001b[39m'\u001b[39m):\n\u001b[0;32m    273\u001b[0m     \u001b[39m# start the generator\u001b[39;00m\n\u001b[0;32m    274\u001b[0m     \u001b[39mself\u001b[39m\u001b[39m.\u001b[39m_started_gen \u001b[39m=\u001b[39m \u001b[39mself\u001b[39m\u001b[39m.\u001b[39mgenerator\n\u001b[1;32m--> 275\u001b[0m \u001b[39mreturn\u001b[39;00m \u001b[39mnext\u001b[39;49m(\u001b[39mself\u001b[39;49m\u001b[39m.\u001b[39;49m_started_gen)\n",
      "File \u001b[1;32m~\\AppData\\Roaming\\Python\\Python312\\site-packages\\pywikibot\\data\\api\\_generators.py:772\u001b[0m, in \u001b[0;36mPropertyGenerator.generator\u001b[1;34m(self)\u001b[0m\n\u001b[0;32m    766\u001b[0m \u001b[39m\u001b[39m\u001b[39m\"\"\"Yield results.\u001b[39;00m\n\u001b[0;32m    767\u001b[0m \n\u001b[0;32m    768\u001b[0m \u001b[39m.. versionchanged:: 7.6\u001b[39;00m\n\u001b[0;32m    769\u001b[0m \u001b[39m   changed from iterator method to generator property\u001b[39;00m\n\u001b[0;32m    770\u001b[0m \u001b[39m\"\"\"\u001b[39;00m\n\u001b[0;32m    771\u001b[0m \u001b[39mself\u001b[39m\u001b[39m.\u001b[39m_previous_dicts \u001b[39m=\u001b[39m {}\n\u001b[1;32m--> 772\u001b[0m \u001b[39myield from\u001b[39;00m \u001b[39msuper\u001b[39m()\u001b[39m.\u001b[39mgenerator\n\u001b[0;32m    773\u001b[0m \u001b[39myield from\u001b[39;00m \u001b[39mself\u001b[39m\u001b[39m.\u001b[39m_previous_dicts\u001b[39m.\u001b[39mvalues()\n",
      "File \u001b[1;32m~\\AppData\\Roaming\\Python\\Python312\\site-packages\\pywikibot\\data\\api\\_generators.py:602\u001b[0m, in \u001b[0;36mQueryGenerator.generator\u001b[1;34m(self)\u001b[0m\n\u001b[0;32m    598\u001b[0m prev_limit, new_limit \u001b[39m=\u001b[39m \u001b[39mself\u001b[39m\u001b[39m.\u001b[39m_handle_query_limit(\n\u001b[0;32m    599\u001b[0m     prev_limit, new_limit, previous_result_had_data)\n\u001b[0;32m    601\u001b[0m \u001b[39mif\u001b[39;00m \u001b[39mnot\u001b[39;00m \u001b[39mhasattr\u001b[39m(\u001b[39mself\u001b[39m, \u001b[39m'\u001b[39m\u001b[39mdata\u001b[39m\u001b[39m'\u001b[39m):\n\u001b[1;32m--> 602\u001b[0m     \u001b[39mself\u001b[39m\u001b[39m.\u001b[39mdata \u001b[39m=\u001b[39m \u001b[39mself\u001b[39;49m\u001b[39m.\u001b[39;49mrequest\u001b[39m.\u001b[39;49msubmit()\n\u001b[0;32m    604\u001b[0m \u001b[39mif\u001b[39;00m \u001b[39mnot\u001b[39;00m \u001b[39mself\u001b[39m\u001b[39m.\u001b[39mdata \u001b[39mor\u001b[39;00m \u001b[39mnot\u001b[39;00m \u001b[39misinstance\u001b[39m(\u001b[39mself\u001b[39m\u001b[39m.\u001b[39mdata, \u001b[39mdict\u001b[39m):\n\u001b[0;32m    605\u001b[0m     pywikibot\u001b[39m.\u001b[39mdebug(\n\u001b[0;32m    606\u001b[0m         \u001b[39m'\u001b[39m\u001b[39m{}\u001b[39;00m\u001b[39m: stopped iteration because no dict retrieved from api.\u001b[39m\u001b[39m'\u001b[39m\n\u001b[0;32m    607\u001b[0m         \u001b[39m.\u001b[39mformat(\u001b[39mtype\u001b[39m(\u001b[39mself\u001b[39m)\u001b[39m.\u001b[39m\u001b[39m__name__\u001b[39m))\n",
      "File \u001b[1;32m~\\AppData\\Roaming\\Python\\Python312\\site-packages\\pywikibot\\data\\api\\_requests.py:989\u001b[0m, in \u001b[0;36mRequest.submit\u001b[1;34m(self)\u001b[0m\n\u001b[0;32m    984\u001b[0m     pywikibot\u001b[39m.\u001b[39mlog(\n\u001b[0;32m    985\u001b[0m         \u001b[39mf\u001b[39m\u001b[39m\"\u001b[39m\u001b[39mSubmitting unthrottled action \u001b[39m\u001b[39m'\u001b[39m\u001b[39m{\u001b[39;00m\u001b[39mself\u001b[39m\u001b[39m.\u001b[39maction\u001b[39m}\u001b[39;00m\u001b[39m'\u001b[39m\u001b[39m.\u001b[39m\u001b[39m\"\u001b[39m)\n\u001b[0;32m    987\u001b[0m use_get, uri, body, headers \u001b[39m=\u001b[39m \u001b[39mself\u001b[39m\u001b[39m.\u001b[39m_get_request_params(use_get,\n\u001b[0;32m    988\u001b[0m                                                        paramstring)\n\u001b[1;32m--> 989\u001b[0m response, use_get \u001b[39m=\u001b[39m \u001b[39mself\u001b[39;49m\u001b[39m.\u001b[39;49m_http_request(use_get, uri, body, headers,\n\u001b[0;32m    990\u001b[0m                                        paramstring)\n\u001b[0;32m    991\u001b[0m \u001b[39mif\u001b[39;00m response \u001b[39mis\u001b[39;00m \u001b[39mNone\u001b[39;00m:\n\u001b[0;32m    992\u001b[0m     \u001b[39mcontinue\u001b[39;00m\n",
      "File \u001b[1;32m~\\AppData\\Roaming\\Python\\Python312\\site-packages\\pywikibot\\data\\api\\_requests.py:688\u001b[0m, in \u001b[0;36mRequest._http_request\u001b[1;34m(self, use_get, uri, data, headers, paramstring)\u001b[0m\n\u001b[0;32m    685\u001b[0m     kwargs[\u001b[39m'\u001b[39m\u001b[39mprotocol\u001b[39m\u001b[39m'\u001b[39m] \u001b[39m=\u001b[39m schemes[\u001b[39mself\u001b[39m\u001b[39m.\u001b[39msite\u001b[39m.\u001b[39mprotocol() \u001b[39m==\u001b[39m \u001b[39m'\u001b[39m\u001b[39mhttp\u001b[39m\u001b[39m'\u001b[39m]\n\u001b[0;32m    687\u001b[0m \u001b[39mtry\u001b[39;00m:\n\u001b[1;32m--> 688\u001b[0m     response \u001b[39m=\u001b[39m http\u001b[39m.\u001b[39;49mrequest(\u001b[39mself\u001b[39;49m\u001b[39m.\u001b[39;49msite, uri\u001b[39m=\u001b[39;49muri,\n\u001b[0;32m    689\u001b[0m                             method\u001b[39m=\u001b[39;49m\u001b[39m'\u001b[39;49m\u001b[39mGET\u001b[39;49m\u001b[39m'\u001b[39;49m \u001b[39mif\u001b[39;49;00m use_get \u001b[39melse\u001b[39;49;00m \u001b[39m'\u001b[39;49m\u001b[39mPOST\u001b[39;49m\u001b[39m'\u001b[39;49m,\n\u001b[0;32m    690\u001b[0m                             data\u001b[39m=\u001b[39;49mdata, headers\u001b[39m=\u001b[39;49mheaders, \u001b[39m*\u001b[39;49m\u001b[39m*\u001b[39;49mkwargs)\n\u001b[0;32m    691\u001b[0m \u001b[39mexcept\u001b[39;00m Server504Error:\n\u001b[0;32m    692\u001b[0m     pywikibot\u001b[39m.\u001b[39mlog(\u001b[39m'\u001b[39m\u001b[39mCaught HTTP 504 error; retrying\u001b[39m\u001b[39m'\u001b[39m)\n",
      "File \u001b[1;32m~\\AppData\\Roaming\\Python\\Python312\\site-packages\\pywikibot\\comms\\http.py:283\u001b[0m, in \u001b[0;36mrequest\u001b[1;34m(site, uri, headers, **kwargs)\u001b[0m\n\u001b[0;32m    280\u001b[0m headers[\u001b[39m'\u001b[39m\u001b[39muser-agent\u001b[39m\u001b[39m'\u001b[39m] \u001b[39m=\u001b[39m user_agent(site, format_string)\n\u001b[0;32m    282\u001b[0m baseuri \u001b[39m=\u001b[39m site\u001b[39m.\u001b[39mbase_url(uri, protocol\u001b[39m=\u001b[39mkwargs\u001b[39m.\u001b[39mpop(\u001b[39m'\u001b[39m\u001b[39mprotocol\u001b[39m\u001b[39m'\u001b[39m, \u001b[39mNone\u001b[39;00m))\n\u001b[1;32m--> 283\u001b[0m r \u001b[39m=\u001b[39m fetch(baseuri, headers\u001b[39m=\u001b[39;49mheaders, \u001b[39m*\u001b[39;49m\u001b[39m*\u001b[39;49mkwargs)\n\u001b[0;32m    284\u001b[0m site\u001b[39m.\u001b[39mthrottle\u001b[39m.\u001b[39mretry_after \u001b[39m=\u001b[39m \u001b[39mint\u001b[39m(r\u001b[39m.\u001b[39mheaders\u001b[39m.\u001b[39mget(\u001b[39m'\u001b[39m\u001b[39mretry-after\u001b[39m\u001b[39m'\u001b[39m, \u001b[39m0\u001b[39m))\n\u001b[0;32m    285\u001b[0m \u001b[39mreturn\u001b[39;00m r\n",
      "File \u001b[1;32m~\\AppData\\Roaming\\Python\\Python312\\site-packages\\pywikibot\\comms\\http.py:448\u001b[0m, in \u001b[0;36mfetch\u001b[1;34m(uri, method, headers, default_error_handling, use_fake_user_agent, **kwargs)\u001b[0m\n\u001b[0;32m    442\u001b[0m timeout \u001b[39m=\u001b[39m config\u001b[39m.\u001b[39msocket_timeout\n\u001b[0;32m    444\u001b[0m \u001b[39mtry\u001b[39;00m:\n\u001b[0;32m    445\u001b[0m     \u001b[39m# Note that the connections are pooled which mean that a future\u001b[39;00m\n\u001b[0;32m    446\u001b[0m     \u001b[39m# HTTPS request can succeed even if the certificate is invalid and\u001b[39;00m\n\u001b[0;32m    447\u001b[0m     \u001b[39m# verify=True, when a request with verify=False happened before\u001b[39;00m\n\u001b[1;32m--> 448\u001b[0m     response \u001b[39m=\u001b[39m session\u001b[39m.\u001b[39;49mrequest(method, uri,\n\u001b[0;32m    449\u001b[0m                                headers\u001b[39m=\u001b[39;49mheaders, auth\u001b[39m=\u001b[39;49mauth, timeout\u001b[39m=\u001b[39;49mtimeout,\n\u001b[0;32m    450\u001b[0m                                \u001b[39m*\u001b[39;49m\u001b[39m*\u001b[39;49mkwargs)\n\u001b[0;32m    451\u001b[0m \u001b[39mexcept\u001b[39;00m \u001b[39mException\u001b[39;00m \u001b[39mas\u001b[39;00m e:\n\u001b[0;32m    452\u001b[0m     response \u001b[39m=\u001b[39m e\n",
      "File \u001b[1;32m~\\AppData\\Roaming\\Python\\Python312\\site-packages\\requests\\sessions.py:589\u001b[0m, in \u001b[0;36mSession.request\u001b[1;34m(self, method, url, params, data, headers, cookies, files, auth, timeout, allow_redirects, proxies, hooks, stream, verify, cert, json)\u001b[0m\n\u001b[0;32m    584\u001b[0m send_kwargs \u001b[39m=\u001b[39m {\n\u001b[0;32m    585\u001b[0m     \u001b[39m\"\u001b[39m\u001b[39mtimeout\u001b[39m\u001b[39m\"\u001b[39m: timeout,\n\u001b[0;32m    586\u001b[0m     \u001b[39m\"\u001b[39m\u001b[39mallow_redirects\u001b[39m\u001b[39m\"\u001b[39m: allow_redirects,\n\u001b[0;32m    587\u001b[0m }\n\u001b[0;32m    588\u001b[0m send_kwargs\u001b[39m.\u001b[39mupdate(settings)\n\u001b[1;32m--> 589\u001b[0m resp \u001b[39m=\u001b[39m \u001b[39mself\u001b[39;49m\u001b[39m.\u001b[39;49msend(prep, \u001b[39m*\u001b[39;49m\u001b[39m*\u001b[39;49msend_kwargs)\n\u001b[0;32m    591\u001b[0m \u001b[39mreturn\u001b[39;00m resp\n",
      "File \u001b[1;32m~\\AppData\\Roaming\\Python\\Python312\\site-packages\\requests\\sessions.py:703\u001b[0m, in \u001b[0;36mSession.send\u001b[1;34m(self, request, **kwargs)\u001b[0m\n\u001b[0;32m    700\u001b[0m start \u001b[39m=\u001b[39m preferred_clock()\n\u001b[0;32m    702\u001b[0m \u001b[39m# Send the request\u001b[39;00m\n\u001b[1;32m--> 703\u001b[0m r \u001b[39m=\u001b[39m adapter\u001b[39m.\u001b[39;49msend(request, \u001b[39m*\u001b[39;49m\u001b[39m*\u001b[39;49mkwargs)\n\u001b[0;32m    705\u001b[0m \u001b[39m# Total elapsed time of the request (approximately)\u001b[39;00m\n\u001b[0;32m    706\u001b[0m elapsed \u001b[39m=\u001b[39m preferred_clock() \u001b[39m-\u001b[39m start\n",
      "File \u001b[1;32m~\\AppData\\Roaming\\Python\\Python312\\site-packages\\requests\\adapters.py:486\u001b[0m, in \u001b[0;36mHTTPAdapter.send\u001b[1;34m(self, request, stream, timeout, verify, cert, proxies)\u001b[0m\n\u001b[0;32m    483\u001b[0m     timeout \u001b[39m=\u001b[39m TimeoutSauce(connect\u001b[39m=\u001b[39mtimeout, read\u001b[39m=\u001b[39mtimeout)\n\u001b[0;32m    485\u001b[0m \u001b[39mtry\u001b[39;00m:\n\u001b[1;32m--> 486\u001b[0m     resp \u001b[39m=\u001b[39m conn\u001b[39m.\u001b[39;49murlopen(\n\u001b[0;32m    487\u001b[0m         method\u001b[39m=\u001b[39;49mrequest\u001b[39m.\u001b[39;49mmethod,\n\u001b[0;32m    488\u001b[0m         url\u001b[39m=\u001b[39;49murl,\n\u001b[0;32m    489\u001b[0m         body\u001b[39m=\u001b[39;49mrequest\u001b[39m.\u001b[39;49mbody,\n\u001b[0;32m    490\u001b[0m         headers\u001b[39m=\u001b[39;49mrequest\u001b[39m.\u001b[39;49mheaders,\n\u001b[0;32m    491\u001b[0m         redirect\u001b[39m=\u001b[39;49m\u001b[39mFalse\u001b[39;49;00m,\n\u001b[0;32m    492\u001b[0m         assert_same_host\u001b[39m=\u001b[39;49m\u001b[39mFalse\u001b[39;49;00m,\n\u001b[0;32m    493\u001b[0m         preload_content\u001b[39m=\u001b[39;49m\u001b[39mFalse\u001b[39;49;00m,\n\u001b[0;32m    494\u001b[0m         decode_content\u001b[39m=\u001b[39;49m\u001b[39mFalse\u001b[39;49;00m,\n\u001b[0;32m    495\u001b[0m         retries\u001b[39m=\u001b[39;49m\u001b[39mself\u001b[39;49m\u001b[39m.\u001b[39;49mmax_retries,\n\u001b[0;32m    496\u001b[0m         timeout\u001b[39m=\u001b[39;49mtimeout,\n\u001b[0;32m    497\u001b[0m         chunked\u001b[39m=\u001b[39;49mchunked,\n\u001b[0;32m    498\u001b[0m     )\n\u001b[0;32m    500\u001b[0m \u001b[39mexcept\u001b[39;00m (ProtocolError, \u001b[39mOSError\u001b[39;00m) \u001b[39mas\u001b[39;00m err:\n\u001b[0;32m    501\u001b[0m     \u001b[39mraise\u001b[39;00m \u001b[39mConnectionError\u001b[39;00m(err, request\u001b[39m=\u001b[39mrequest)\n",
      "File \u001b[1;32m~\\AppData\\Roaming\\Python\\Python312\\site-packages\\urllib3\\connectionpool.py:790\u001b[0m, in \u001b[0;36mHTTPConnectionPool.urlopen\u001b[1;34m(self, method, url, body, headers, retries, redirect, assert_same_host, timeout, pool_timeout, release_conn, chunked, body_pos, preload_content, decode_content, **response_kw)\u001b[0m\n\u001b[0;32m    787\u001b[0m response_conn \u001b[39m=\u001b[39m conn \u001b[39mif\u001b[39;00m \u001b[39mnot\u001b[39;00m release_conn \u001b[39melse\u001b[39;00m \u001b[39mNone\u001b[39;00m\n\u001b[0;32m    789\u001b[0m \u001b[39m# Make the request on the HTTPConnection object\u001b[39;00m\n\u001b[1;32m--> 790\u001b[0m response \u001b[39m=\u001b[39m \u001b[39mself\u001b[39;49m\u001b[39m.\u001b[39;49m_make_request(\n\u001b[0;32m    791\u001b[0m     conn,\n\u001b[0;32m    792\u001b[0m     method,\n\u001b[0;32m    793\u001b[0m     url,\n\u001b[0;32m    794\u001b[0m     timeout\u001b[39m=\u001b[39;49mtimeout_obj,\n\u001b[0;32m    795\u001b[0m     body\u001b[39m=\u001b[39;49mbody,\n\u001b[0;32m    796\u001b[0m     headers\u001b[39m=\u001b[39;49mheaders,\n\u001b[0;32m    797\u001b[0m     chunked\u001b[39m=\u001b[39;49mchunked,\n\u001b[0;32m    798\u001b[0m     retries\u001b[39m=\u001b[39;49mretries,\n\u001b[0;32m    799\u001b[0m     response_conn\u001b[39m=\u001b[39;49mresponse_conn,\n\u001b[0;32m    800\u001b[0m     preload_content\u001b[39m=\u001b[39;49mpreload_content,\n\u001b[0;32m    801\u001b[0m     decode_content\u001b[39m=\u001b[39;49mdecode_content,\n\u001b[0;32m    802\u001b[0m     \u001b[39m*\u001b[39;49m\u001b[39m*\u001b[39;49mresponse_kw,\n\u001b[0;32m    803\u001b[0m )\n\u001b[0;32m    805\u001b[0m \u001b[39m# Everything went great!\u001b[39;00m\n\u001b[0;32m    806\u001b[0m clean_exit \u001b[39m=\u001b[39m \u001b[39mTrue\u001b[39;00m\n",
      "File \u001b[1;32m~\\AppData\\Roaming\\Python\\Python312\\site-packages\\urllib3\\connectionpool.py:536\u001b[0m, in \u001b[0;36mHTTPConnectionPool._make_request\u001b[1;34m(self, conn, method, url, body, headers, retries, timeout, chunked, response_conn, preload_content, decode_content, enforce_content_length)\u001b[0m\n\u001b[0;32m    534\u001b[0m \u001b[39m# Receive the response from the server\u001b[39;00m\n\u001b[0;32m    535\u001b[0m \u001b[39mtry\u001b[39;00m:\n\u001b[1;32m--> 536\u001b[0m     response \u001b[39m=\u001b[39m conn\u001b[39m.\u001b[39;49mgetresponse()\n\u001b[0;32m    537\u001b[0m \u001b[39mexcept\u001b[39;00m (BaseSSLError, \u001b[39mOSError\u001b[39;00m) \u001b[39mas\u001b[39;00m e:\n\u001b[0;32m    538\u001b[0m     \u001b[39mself\u001b[39m\u001b[39m.\u001b[39m_raise_timeout(err\u001b[39m=\u001b[39me, url\u001b[39m=\u001b[39murl, timeout_value\u001b[39m=\u001b[39mread_timeout)\n",
      "File \u001b[1;32m~\\AppData\\Roaming\\Python\\Python312\\site-packages\\urllib3\\connection.py:461\u001b[0m, in \u001b[0;36mHTTPConnection.getresponse\u001b[1;34m(self)\u001b[0m\n\u001b[0;32m    458\u001b[0m \u001b[39mfrom\u001b[39;00m \u001b[39m.\u001b[39;00m\u001b[39mresponse\u001b[39;00m \u001b[39mimport\u001b[39;00m HTTPResponse\n\u001b[0;32m    460\u001b[0m \u001b[39m# Get the response from http.client.HTTPConnection\u001b[39;00m\n\u001b[1;32m--> 461\u001b[0m httplib_response \u001b[39m=\u001b[39m \u001b[39msuper\u001b[39;49m()\u001b[39m.\u001b[39;49mgetresponse()\n\u001b[0;32m    463\u001b[0m \u001b[39mtry\u001b[39;00m:\n\u001b[0;32m    464\u001b[0m     assert_header_parsing(httplib_response\u001b[39m.\u001b[39mmsg)\n",
      "File \u001b[1;32mc:\\Program Files\\Python312\\Lib\\http\\client.py:1411\u001b[0m, in \u001b[0;36mHTTPConnection.getresponse\u001b[1;34m(self)\u001b[0m\n\u001b[0;32m   1409\u001b[0m \u001b[39mtry\u001b[39;00m:\n\u001b[0;32m   1410\u001b[0m     \u001b[39mtry\u001b[39;00m:\n\u001b[1;32m-> 1411\u001b[0m         response\u001b[39m.\u001b[39;49mbegin()\n\u001b[0;32m   1412\u001b[0m     \u001b[39mexcept\u001b[39;00m \u001b[39mConnectionError\u001b[39;00m:\n\u001b[0;32m   1413\u001b[0m         \u001b[39mself\u001b[39m\u001b[39m.\u001b[39mclose()\n",
      "File \u001b[1;32mc:\\Program Files\\Python312\\Lib\\http\\client.py:324\u001b[0m, in \u001b[0;36mHTTPResponse.begin\u001b[1;34m(self)\u001b[0m\n\u001b[0;32m    322\u001b[0m \u001b[39m# read until we get a non-100 response\u001b[39;00m\n\u001b[0;32m    323\u001b[0m \u001b[39mwhile\u001b[39;00m \u001b[39mTrue\u001b[39;00m:\n\u001b[1;32m--> 324\u001b[0m     version, status, reason \u001b[39m=\u001b[39m \u001b[39mself\u001b[39;49m\u001b[39m.\u001b[39;49m_read_status()\n\u001b[0;32m    325\u001b[0m     \u001b[39mif\u001b[39;00m status \u001b[39m!=\u001b[39m CONTINUE:\n\u001b[0;32m    326\u001b[0m         \u001b[39mbreak\u001b[39;00m\n",
      "File \u001b[1;32mc:\\Program Files\\Python312\\Lib\\http\\client.py:285\u001b[0m, in \u001b[0;36mHTTPResponse._read_status\u001b[1;34m(self)\u001b[0m\n\u001b[0;32m    284\u001b[0m \u001b[39mdef\u001b[39;00m \u001b[39m_read_status\u001b[39m(\u001b[39mself\u001b[39m):\n\u001b[1;32m--> 285\u001b[0m     line \u001b[39m=\u001b[39m \u001b[39mstr\u001b[39m(\u001b[39mself\u001b[39;49m\u001b[39m.\u001b[39;49mfp\u001b[39m.\u001b[39;49mreadline(_MAXLINE \u001b[39m+\u001b[39;49m \u001b[39m1\u001b[39;49m), \u001b[39m\"\u001b[39m\u001b[39miso-8859-1\u001b[39m\u001b[39m\"\u001b[39m)\n\u001b[0;32m    286\u001b[0m     \u001b[39mif\u001b[39;00m \u001b[39mlen\u001b[39m(line) \u001b[39m>\u001b[39m _MAXLINE:\n\u001b[0;32m    287\u001b[0m         \u001b[39mraise\u001b[39;00m LineTooLong(\u001b[39m\"\u001b[39m\u001b[39mstatus line\u001b[39m\u001b[39m\"\u001b[39m)\n",
      "File \u001b[1;32mc:\\Program Files\\Python312\\Lib\\socket.py:707\u001b[0m, in \u001b[0;36mSocketIO.readinto\u001b[1;34m(self, b)\u001b[0m\n\u001b[0;32m    705\u001b[0m \u001b[39mwhile\u001b[39;00m \u001b[39mTrue\u001b[39;00m:\n\u001b[0;32m    706\u001b[0m     \u001b[39mtry\u001b[39;00m:\n\u001b[1;32m--> 707\u001b[0m         \u001b[39mreturn\u001b[39;00m \u001b[39mself\u001b[39;49m\u001b[39m.\u001b[39;49m_sock\u001b[39m.\u001b[39;49mrecv_into(b)\n\u001b[0;32m    708\u001b[0m     \u001b[39mexcept\u001b[39;00m timeout:\n\u001b[0;32m    709\u001b[0m         \u001b[39mself\u001b[39m\u001b[39m.\u001b[39m_timeout_occurred \u001b[39m=\u001b[39m \u001b[39mTrue\u001b[39;00m\n",
      "File \u001b[1;32mc:\\Program Files\\Python312\\Lib\\ssl.py:1249\u001b[0m, in \u001b[0;36mSSLSocket.recv_into\u001b[1;34m(self, buffer, nbytes, flags)\u001b[0m\n\u001b[0;32m   1245\u001b[0m     \u001b[39mif\u001b[39;00m flags \u001b[39m!=\u001b[39m \u001b[39m0\u001b[39m:\n\u001b[0;32m   1246\u001b[0m         \u001b[39mraise\u001b[39;00m \u001b[39mValueError\u001b[39;00m(\n\u001b[0;32m   1247\u001b[0m           \u001b[39m\"\u001b[39m\u001b[39mnon-zero flags not allowed in calls to recv_into() on \u001b[39m\u001b[39m%s\u001b[39;00m\u001b[39m\"\u001b[39m \u001b[39m%\u001b[39m\n\u001b[0;32m   1248\u001b[0m           \u001b[39mself\u001b[39m\u001b[39m.\u001b[39m\u001b[39m__class__\u001b[39m)\n\u001b[1;32m-> 1249\u001b[0m     \u001b[39mreturn\u001b[39;00m \u001b[39mself\u001b[39;49m\u001b[39m.\u001b[39;49mread(nbytes, buffer)\n\u001b[0;32m   1250\u001b[0m \u001b[39melse\u001b[39;00m:\n\u001b[0;32m   1251\u001b[0m     \u001b[39mreturn\u001b[39;00m \u001b[39msuper\u001b[39m()\u001b[39m.\u001b[39mrecv_into(buffer, nbytes, flags)\n",
      "File \u001b[1;32mc:\\Program Files\\Python312\\Lib\\ssl.py:1105\u001b[0m, in \u001b[0;36mSSLSocket.read\u001b[1;34m(self, len, buffer)\u001b[0m\n\u001b[0;32m   1103\u001b[0m \u001b[39mtry\u001b[39;00m:\n\u001b[0;32m   1104\u001b[0m     \u001b[39mif\u001b[39;00m buffer \u001b[39mis\u001b[39;00m \u001b[39mnot\u001b[39;00m \u001b[39mNone\u001b[39;00m:\n\u001b[1;32m-> 1105\u001b[0m         \u001b[39mreturn\u001b[39;00m \u001b[39mself\u001b[39;49m\u001b[39m.\u001b[39;49m_sslobj\u001b[39m.\u001b[39;49mread(\u001b[39mlen\u001b[39;49m, buffer)\n\u001b[0;32m   1106\u001b[0m     \u001b[39melse\u001b[39;00m:\n\u001b[0;32m   1107\u001b[0m         \u001b[39mreturn\u001b[39;00m \u001b[39mself\u001b[39m\u001b[39m.\u001b[39m_sslobj\u001b[39m.\u001b[39mread(\u001b[39mlen\u001b[39m)\n",
      "\u001b[1;31mKeyboardInterrupt\u001b[0m: "
     ]
    }
   ],
   "source": [
    "with open(f\"{path}/cat-list-pandas.csv\", \"r\", encoding=\"utf-8\") as categories_csv, open(f\"{path}/pages-list.csv\", \"a\", encoding=\"utf-8\") as pages_csv:\n",
    "    dictreader = DictReader(categories_csv, cat_fieldnames, lineterminator=\"\\r\")\n",
    "    dictwriter = DictWriter(pages_csv, page_fieldnames, lineterminator=\"\\r\")\n",
    "\n",
    "    family = \"\"\n",
    "    locality = \"\"\n",
    "\n",
    "    added = os.listdir(f\"{path}/train\")\n",
    "    added.sort(reverse=True)\n",
    "\n",
    "    cat_counter = int(added[0][0:1]) if len(added) > 0 else 0\n",
    "    cat_list = list(dictreader)\n",
    "\n",
    "    while cat_counter < len(cat_list):\n",
    "        row = cat_list[cat_counter]\n",
    "\n",
    "        if family != row[\"FAMILY\"] or locality != row[\"LOCALITY\"]:\n",
    "            family = row[\"FAMILY\"]\n",
    "            locality = row[\"LOCALITY\"]\n",
    "\n",
    "            site = pywikibot.Site(locality, family)\n",
    "\n",
    "        category = pywikibot.Category(site, row[\"CATEGORY\"])\n",
    "\n",
    "        # TODO add brief desc. later \n",
    "        page_count = category.categoryinfo[\"pages\"]\n",
    "        added_count = sum(list(map(lambda p: 1 if int(p.split(\"_\")[0]) == cat_counter else 0, added)))\n",
    "        \n",
    "        if added_count == page_count:\n",
    "            cat_counter += 1\n",
    "            continue\n",
    "\n",
    "        pages = category.articles(recurse=False)\n",
    "\n",
    "        print(f\"Querying {category} | {page_count} pages long.\")\n",
    "        \n",
    "        for idx, page in enumerate(pages):\n",
    "            file = open(f\"{path}/train/{cat_counter}_{idx}.txt\", \"w\", encoding=\"utf-8\")\n",
    "            file.write(page.text)\n",
    "            \n",
    "        print(f\"Saved {category}\")\n",
    "        \n",
    "        cat_counter += 1"
   ]
  }
 ],
 "metadata": {
  "kernelspec": {
   "display_name": "Python 3",
   "language": "python",
   "name": "python3"
  },
  "language_info": {
   "codemirror_mode": {
    "name": "ipython",
    "version": 3
   },
   "file_extension": ".py",
   "mimetype": "text/x-python",
   "name": "python",
   "nbconvert_exporter": "python",
   "pygments_lexer": "ipython3",
   "version": "3.12.0"
  }
 },
 "nbformat": 4,
 "nbformat_minor": 2
}

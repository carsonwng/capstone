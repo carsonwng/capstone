{
 "cells": [
  {
   "cell_type": "markdown",
   "metadata": {},
   "source": [
    "##### Init our env.\n",
    "\n",
    "We're gonne need pywikibot for calling the wikibase APIs (mediawiki family wikis). It's going to be the quickest and easiest way to interface with them. Import DictWriter and json from built-in modules to interact with data files, and we're set."
   ]
  },
  {
   "cell_type": "code",
   "execution_count": 4,
   "metadata": {},
   "outputs": [],
   "source": [
    "import pywikibot\n",
    "from csv import DictWriter\n",
    "import json"
   ]
  },
  {
   "cell_type": "markdown",
   "metadata": {},
   "source": [
    "##### Quickly set some vars...\n",
    "\n",
    "All of our data will be stored in the [../data/categories](\"../data/categories\") file-a folder that is included in our .gitignore file.\n",
    "\n",
    "\"fieldnames\" represents each column within our .csv file, and each entry into this file *must* have these three fields. This will make our life easier later on when we need to fetch this information for fetching page content."
   ]
  },
  {
   "cell_type": "code",
   "execution_count": 5,
   "metadata": {},
   "outputs": [],
   "source": [
    "path = \"../data/categories\"\n",
    "fieldnames = [\n",
    "    \"FAMILY\",\n",
    "    \"LOCALITY\",\n",
    "    \"CATEGORY\"\n",
    "]"
   ]
  },
  {
   "cell_type": "markdown",
   "metadata": {},
   "source": [
    "##### Query our \"Categories\"\n",
    "\n",
    "To wikibase wikis, a category is an article that contains other articles, they're denoted by \"Category:\" before the title of said category. Because of some quirks with subcategories, <u>there may be an infinite depth to any given category query</u>. We need to query each category and it's subcategories to find most (if not all) related articles (wiki pages). We should store these categories and subcategories in our .csv file for later use.\n",
    "\n",
    "The next python block opens our \"categories.json\" and \"cat-list.csv\" files. The \"categories.json\" file stores all of the categories in queue to be queried, and it has the following structure:\n",
    "\n",
    "```yaml\n",
    "[\n",
    "    {\n",
    "        \"family\": \"wikibooks\",\n",
    "        \"locality\": \"en\",\n",
    "        \"categories\": [\n",
    "            \"Recipes\"\n",
    "        ],\n",
    "        \"added\": [\n",
    "            \"Recipes\"\n",
    "        ]\n",
    "    },\n",
    "    ...{} # more elements of similar structure.\n",
    "]\n",
    "```\n",
    "\n",
    "<mark>\"Family\"</mark>: Denotes the wiki family (wikipedia, mediawiki, wikibooks, etc...). Basically the website you visit when in search of information.</br>\n",
    "<mark>\"Locality\"</mark>: Denotes the locality. A short, language code that determines the sub-wiki.</br></br>\n",
    "<mark>\"Categories\"</mark>: Contains the categories we'd like to query.</br>\n",
    "<mark>\"Added\"</mark>: All of the categories we've already added."
   ]
  },
  {
   "cell_type": "code",
   "execution_count": 6,
   "metadata": {},
   "outputs": [],
   "source": [
    "with open(f\"{path}/categories.json\", \"r+\") as categories_raw, open(f\"{path}/cat-list.csv\", \"a\", encoding=\"utf-8\") as pages_list:\n",
    "    dictwriter = DictWriter(pages_list, fieldnames, lineterminator=\"\\r\")\n",
    "    categories = json.load(categories_raw)\n",
    "\n",
    "    for idx, wiki in enumerate(categories):\n",
    "        cat_pending = list(set(wiki[\"categories\"]) - set(wiki[\"added\"]))\n",
    "\n",
    "        site = pywikibot.Site(wiki[\"locality\"], wiki[\"family\"])\n",
    "\n",
    "        cat_obj_list: list[pywikibot.Category] = list(map(\n",
    "            lambda cat:\n",
    "                pywikibot.Category(site, cat)\n",
    "        , cat_pending))\n",
    "\n",
    "        for category in cat_obj_list:\n",
    "            print(f\"Querying {category}\")\n",
    "\n",
    "            sub_cats = category.subcategories(recurse=7)\n",
    "\n",
    "            sub_cats = list(map(\n",
    "                lambda cat:\n",
    "                    {\n",
    "                        \"FAMILY\": wiki[\"family\"],\n",
    "                        \"LOCALITY\": wiki[\"locality\"],\n",
    "                        \"CATEGORY\": cat.title()\n",
    "                    }\n",
    "            , [category, *sub_cats]))\n",
    "\n",
    "            dictwriter.writerows(sub_cats)\n",
    "\n",
    "            wiki[\"added\"].insert(-1, category.title().replace(\"Category:\", \"\"))\n",
    "            categories[idx] = wiki\n",
    "\n",
    "            categories_raw.seek(0)\n",
    "            json.dump(categories, categories_raw, indent=4)"
   ]
  },
  {
   "cell_type": "markdown",
   "metadata": {},
   "source": [
    "# Filter data"
   ]
  },
  {
   "cell_type": "code",
   "execution_count": 1,
   "metadata": {},
   "outputs": [],
   "source": [
    "import pandas"
   ]
  },
  {
   "cell_type": "code",
   "execution_count": null,
   "metadata": {},
   "outputs": [],
   "source": [
    "raw = pandas.read_csv(\"../data/categories/cat-list.csv\")\n",
    "raw.drop_duplicates(inplace=True)\n",
    "\n",
    "raw.to_csv(\"../data/categories/cat-list-pandas.csv\")"
   ]
  }
 ],
 "metadata": {
  "kernelspec": {
   "display_name": "Python 3",
   "language": "python",
   "name": "python3"
  },
  "language_info": {
   "codemirror_mode": {
    "name": "ipython",
    "version": 3
   },
   "file_extension": ".py",
   "mimetype": "text/x-python",
   "name": "python",
   "nbconvert_exporter": "python",
   "pygments_lexer": "ipython3",
   "version": "3.12.0"
  }
 },
 "nbformat": 4,
 "nbformat_minor": 2
}

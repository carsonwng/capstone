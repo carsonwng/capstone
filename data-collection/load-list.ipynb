{
 "cells": [
  {
   "cell_type": "code",
   "execution_count": null,
   "metadata": {},
   "outputs": [],
   "source": [
    "import pywikibot\n",
    "from csv import DictWriter\n",
    "import json"
   ]
  },
  {
   "cell_type": "code",
   "execution_count": null,
   "metadata": {},
   "outputs": [],
   "source": [
    "path = \"../data/categories\"\n",
    "fieldnames = [\n",
    "    \"FAMILY\",\n",
    "    \"LOCALITY\",\n",
    "    \"CATEGORY\"\n",
    "]"
   ]
  },
  {
   "cell_type": "code",
   "execution_count": null,
   "metadata": {},
   "outputs": [],
   "source": [
    "with open(f\"{path}/categories.json\", \"r+\") as categories_raw, open(f\"{path}/cat-list.csv\", \"a\") as pages_list:\n",
    "    dictwriter = DictWriter(pages_list, fieldnames, lineterminator=\"\\r\")\n",
    "    categories = json.load(categories_raw)\n",
    "\n",
    "    for idx, wiki in enumerate(categories):\n",
    "        cat_pending = list(set(wiki[\"categories\"]) - set(wiki[\"added\"]))\n",
    "\n",
    "        site = pywikibot.Site(wiki[\"locality\"], wiki[\"family\"])\n",
    "\n",
    "        cat_obj_list: list[pywikibot.Category] = list(map(\n",
    "            lambda cat:\n",
    "                pywikibot.Category(site, cat)\n",
    "        , cat_pending))\n",
    "\n",
    "        for category in cat_obj_list:\n",
    "            print(f\"Querying {category}\")\n",
    "\n",
    "            sub_cats = category.subcategories(recurse=True)\n",
    "\n",
    "            sub_cats = list(map(\n",
    "                lambda cat:\n",
    "                    {\n",
    "                        \"FAMILY\": wiki[\"family\"],\n",
    "                        \"LOCALITY\": wiki[\"locality\"],\n",
    "                        \"CATEGORY\": cat.title()\n",
    "                    }\n",
    "            , [category, *sub_cats]))\n",
    "\n",
    "            dictwriter.writerows(sub_cats)\n",
    "\n",
    "            wiki[\"added\"].insert(-1, category.title().replace(\"Category:\", \"\"))\n",
    "            categories[idx] = wiki\n",
    "\n",
    "            categories_raw.seek(0)\n",
    "            json.dump(categories, categories_raw, indent=4)"
   ]
  },
  {
   "cell_type": "code",
   "execution_count": null,
   "metadata": {},
   "outputs": [],
   "source": []
  }
 ],
 "metadata": {
  "kernelspec": {
   "display_name": "Python 3",
   "language": "python",
   "name": "python3"
  },
  "language_info": {
   "codemirror_mode": {
    "name": "ipython",
    "version": 3
   },
   "file_extension": ".py",
   "mimetype": "text/x-python",
   "name": "python",
   "nbconvert_exporter": "python",
   "pygments_lexer": "ipython3",
   "version": "3.12.0"
  }
 },
 "nbformat": 4,
 "nbformat_minor": 2
}

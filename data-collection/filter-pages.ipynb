{
 "cells": [
  {
   "cell_type": "code",
   "execution_count": null,
   "metadata": {},
   "outputs": [],
   "source": [
    "import os, shutil"
   ]
  },
  {
   "cell_type": "code",
   "execution_count": null,
   "metadata": {},
   "outputs": [],
   "source": [
    "path = \"../data/categories/train/\"\n",
    "clean_path = \"../data/categories/train-clean/\""
   ]
  },
  {
   "cell_type": "code",
   "execution_count": null,
   "metadata": {},
   "outputs": [],
   "source": [
    "train_raw = os.listdir(path)\n",
    "seen = set()\n",
    "\n",
    "for page in train_raw:\n",
    "    page_id = page.split(\"_\")[2].split(\".\")[0]\n",
    "\n",
    "    if page_id in seen:\n",
    "        print(f\"Dupe: {page_id}\")\n",
    "        continue\n",
    "\n",
    "    seen.add(page_id)\n",
    "    shutil.copyfile(path + page, clean_path + page)"
   ]
  }
 ],
 "metadata": {
  "kernelspec": {
   "display_name": "Python 3",
   "language": "python",
   "name": "python3"
  },
  "language_info": {
   "codemirror_mode": {
    "name": "ipython",
    "version": 3
   },
   "file_extension": ".py",
   "mimetype": "text/x-python",
   "name": "python",
   "nbconvert_exporter": "python",
   "pygments_lexer": "ipython3",
   "version": "3.12.0"
  }
 },
 "nbformat": 4,
 "nbformat_minor": 2
}
